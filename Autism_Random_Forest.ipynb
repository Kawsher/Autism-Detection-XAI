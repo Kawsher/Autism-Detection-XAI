{
 "cells": [
  {
   "cell_type": "code",
   "execution_count": 1,
   "metadata": {},
   "outputs": [],
   "source": [
    "import pandas as pd\n",
    "import numpy as np\n",
    "import matplotlib.pyplot as plt\n",
    "%matplotlib inline"
   ]
  },
  {
   "cell_type": "code",
   "execution_count": 2,
   "metadata": {},
   "outputs": [],
   "source": [
    "df = pd.read_csv(\"Toddler_Autism - Copy.csv\")"
   ]
  },
  {
   "cell_type": "code",
   "execution_count": 3,
   "metadata": {},
   "outputs": [
    {
     "data": {
      "text/plain": [
       "(1054, 19)"
      ]
     },
     "execution_count": 3,
     "metadata": {},
     "output_type": "execute_result"
    }
   ],
   "source": [
    "df.shape"
   ]
  },
  {
   "cell_type": "code",
   "execution_count": 4,
   "metadata": {},
   "outputs": [],
   "source": [
    "df[\"Sexn\"]= pd.factorize(df.Sex)[0]\n",
    "df[\"Ethnicityn\"]= pd.factorize(df.Ethnicity)[0]\n",
    "df[\"Jaundicen\"]= pd.factorize(df.Jaundice)[0]\n",
    "df[\"Family_mem_with_ASDn\"]= pd.factorize(df.Family_mem_with_ASD)[0]\n",
    "df[\"Who_completed_the_testn\"]= pd.factorize(df.Who_completed_the_test)[0]"
   ]
  },
  {
   "cell_type": "code",
   "execution_count": 5,
   "metadata": {},
   "outputs": [
    {
     "data": {
      "text/html": [
       "<div>\n",
       "<style scoped>\n",
       "    .dataframe tbody tr th:only-of-type {\n",
       "        vertical-align: middle;\n",
       "    }\n",
       "\n",
       "    .dataframe tbody tr th {\n",
       "        vertical-align: top;\n",
       "    }\n",
       "\n",
       "    .dataframe thead th {\n",
       "        text-align: right;\n",
       "    }\n",
       "</style>\n",
       "<table border=\"1\" class=\"dataframe\">\n",
       "  <thead>\n",
       "    <tr style=\"text-align: right;\">\n",
       "      <th></th>\n",
       "      <th>A1</th>\n",
       "      <th>A2</th>\n",
       "      <th>A3</th>\n",
       "      <th>A4</th>\n",
       "      <th>A5</th>\n",
       "      <th>A6</th>\n",
       "      <th>A7</th>\n",
       "      <th>A8</th>\n",
       "      <th>A9</th>\n",
       "      <th>A10</th>\n",
       "      <th>Age_Mons</th>\n",
       "      <th>Qchat-10-Score</th>\n",
       "      <th>resn</th>\n",
       "      <th>Sexn</th>\n",
       "      <th>Ethnicityn</th>\n",
       "      <th>Jaundicen</th>\n",
       "      <th>Family_mem_with_ASDn</th>\n",
       "      <th>Who_completed_the_testn</th>\n",
       "    </tr>\n",
       "  </thead>\n",
       "  <tbody>\n",
       "    <tr>\n",
       "      <th>0</th>\n",
       "      <td>0</td>\n",
       "      <td>0</td>\n",
       "      <td>0</td>\n",
       "      <td>0</td>\n",
       "      <td>0</td>\n",
       "      <td>0</td>\n",
       "      <td>1</td>\n",
       "      <td>1</td>\n",
       "      <td>0</td>\n",
       "      <td>1</td>\n",
       "      <td>28</td>\n",
       "      <td>3</td>\n",
       "      <td>1</td>\n",
       "      <td>0</td>\n",
       "      <td>0</td>\n",
       "      <td>0</td>\n",
       "      <td>0</td>\n",
       "      <td>0</td>\n",
       "    </tr>\n",
       "    <tr>\n",
       "      <th>1</th>\n",
       "      <td>1</td>\n",
       "      <td>1</td>\n",
       "      <td>0</td>\n",
       "      <td>0</td>\n",
       "      <td>0</td>\n",
       "      <td>1</td>\n",
       "      <td>1</td>\n",
       "      <td>0</td>\n",
       "      <td>0</td>\n",
       "      <td>0</td>\n",
       "      <td>36</td>\n",
       "      <td>4</td>\n",
       "      <td>1</td>\n",
       "      <td>1</td>\n",
       "      <td>1</td>\n",
       "      <td>0</td>\n",
       "      <td>0</td>\n",
       "      <td>0</td>\n",
       "    </tr>\n",
       "  </tbody>\n",
       "</table>\n",
       "</div>"
      ],
      "text/plain": [
       "   A1  A2  A3  A4  A5  A6  A7  A8  A9  A10  Age_Mons  Qchat-10-Score  resn  \\\n",
       "0   0   0   0   0   0   0   1   1   0    1        28               3     1   \n",
       "1   1   1   0   0   0   1   1   0   0    0        36               4     1   \n",
       "\n",
       "   Sexn  Ethnicityn  Jaundicen  Family_mem_with_ASDn  Who_completed_the_testn  \n",
       "0     0           0          0                     0                        0  \n",
       "1     1           1          0                     0                        0  "
      ]
     },
     "execution_count": 5,
     "metadata": {},
     "output_type": "execute_result"
    }
   ],
   "source": [
    "dm=df.drop(['Case_No','Sex', 'Ethnicity','Jaundice','Family_mem_with_ASD','Who_completed_the_test'], axis=1)\n",
    "dm.head(2)"
   ]
  },
  {
   "cell_type": "code",
   "execution_count": 36,
   "metadata": {},
   "outputs": [
    {
     "data": {
      "text/plain": [
       "array([1, 1, 1, 1, 1, 1, 1, 0, 1, 1, 1, 0, 1, 0, 1], dtype=int64)"
      ]
     },
     "execution_count": 36,
     "metadata": {},
     "output_type": "execute_result"
    }
   ],
   "source": [
    "dm.columns\n",
    "feature_df = dm[['A1','A2','A3','A4','A5','A6','A7','A8','A9','A10','Qchat-10-Score', 'Age_Mons','Ethnicityn','Sexn', 'Jaundicen','Family_mem_with_ASDn','Who_completed_the_testn']]\n",
    "\n",
    "X = np.asarray(feature_df)\n",
    "y = np.asarray(dm['resn'])\n",
    "\n",
    "y[0:15]"
   ]
  },
  {
   "cell_type": "code",
   "execution_count": 37,
   "metadata": {},
   "outputs": [],
   "source": [
    "from sklearn.model_selection import train_test_split\n",
    "X_train, X_test, y_train, y_test = train_test_split(X, y, test_size = 0.2)"
   ]
  },
  {
   "cell_type": "code",
   "execution_count": 38,
   "metadata": {},
   "outputs": [],
   "source": [
    "from sklearn.ensemble import RandomForestClassifier\n",
    "model = RandomForestClassifier(n_estimators=100)"
   ]
  },
  {
   "cell_type": "code",
   "execution_count": 39,
   "metadata": {},
   "outputs": [
    {
     "data": {
      "text/plain": [
       "RandomForestClassifier()"
      ]
     },
     "execution_count": 39,
     "metadata": {},
     "output_type": "execute_result"
    }
   ],
   "source": [
    "model.fit(X_train, y_train)"
   ]
  },
  {
   "cell_type": "code",
   "execution_count": 40,
   "metadata": {},
   "outputs": [
    {
     "data": {
      "text/plain": [
       "0.6161137440758294"
      ]
     },
     "execution_count": 40,
     "metadata": {},
     "output_type": "execute_result"
    }
   ],
   "source": [
    "model.score(X_test, y_test)"
   ]
  },
  {
   "cell_type": "code",
   "execution_count": 41,
   "metadata": {},
   "outputs": [
    {
     "data": {
      "text/plain": [
       "array([1, 1, 1, 0, 0], dtype=int64)"
      ]
     },
     "execution_count": 41,
     "metadata": {},
     "output_type": "execute_result"
    }
   ],
   "source": [
    "y_test[:5]"
   ]
  },
  {
   "cell_type": "code",
   "execution_count": 28,
   "metadata": {},
   "outputs": [],
   "source": [
    "m=model.predict(X_test)"
   ]
  },
  {
   "cell_type": "code",
   "execution_count": 29,
   "metadata": {},
   "outputs": [
    {
     "data": {
      "text/plain": [
       "array([[0.09      , 0.91      ],\n",
       "       [0.18766667, 0.81233333],\n",
       "       [0.43      , 0.57      ],\n",
       "       [0.36666667, 0.63333333],\n",
       "       [0.41666667, 0.58333333],\n",
       "       [0.30833333, 0.69166667],\n",
       "       [0.96      , 0.04      ],\n",
       "       [0.14383333, 0.85616667],\n",
       "       [0.34      , 0.66      ],\n",
       "       [0.31      , 0.69      ]])"
      ]
     },
     "execution_count": 29,
     "metadata": {},
     "output_type": "execute_result"
    }
   ],
   "source": [
    "model.predict_proba(X_test[:10])"
   ]
  },
  {
   "cell_type": "code",
   "execution_count": 30,
   "metadata": {},
   "outputs": [
    {
     "name": "stdout",
     "output_type": "stream",
     "text": [
      "Accuracy: 0.7156398104265402\n"
     ]
    }
   ],
   "source": [
    "from sklearn import metrics\n",
    "# Model Accuracy, how often is the classifier correct?\n",
    "print(\"Accuracy:\",metrics.accuracy_score(y_test, m))"
   ]
  },
  {
   "cell_type": "code",
   "execution_count": 56,
   "metadata": {},
   "outputs": [
    {
     "data": {
      "text/plain": [
       "array([0.94444444, 0.94444444, 0.94444444, 0.94444444, 0.88235294])"
      ]
     },
     "execution_count": 56,
     "metadata": {},
     "output_type": "execute_result"
    }
   ],
   "source": [
    "from sklearn.model_selection import cross_val_score\n",
    "cross_val_score(RandomForestClassifier(n_estimators=100),X_train, y_train, cv=5)"
   ]
  },
  {
   "cell_type": "code",
   "execution_count": 57,
   "metadata": {},
   "outputs": [],
   "source": [
    "dm = pd.read_csv('Batsman_Current - Copy.csv')"
   ]
  },
  {
   "cell_type": "code",
   "execution_count": 58,
   "metadata": {},
   "outputs": [],
   "source": [
    "dm['rating'] = dm['Runs'] / dm['Inns'] + dm['Runs'] / dm['BF'] + dm['hundred'] + dm['fifty'] / dm['Inns'] + dm['four']*4 / dm['Inns'] + dm['six']*6 / dm['Inns']+ df['zero'] / df['Inns']"
   ]
  },
  {
   "cell_type": "code",
   "execution_count": 59,
   "metadata": {},
   "outputs": [],
   "source": [
    "p=dm.drop(['Player','Span','rating'],axis='columns')"
   ]
  },
  {
   "cell_type": "code",
   "execution_count": 60,
   "metadata": {},
   "outputs": [
    {
     "data": {
      "text/html": [
       "<div>\n",
       "<style scoped>\n",
       "    .dataframe tbody tr th:only-of-type {\n",
       "        vertical-align: middle;\n",
       "    }\n",
       "\n",
       "    .dataframe tbody tr th {\n",
       "        vertical-align: top;\n",
       "    }\n",
       "\n",
       "    .dataframe thead th {\n",
       "        text-align: right;\n",
       "    }\n",
       "</style>\n",
       "<table border=\"1\" class=\"dataframe\">\n",
       "  <thead>\n",
       "    <tr style=\"text-align: right;\">\n",
       "      <th></th>\n",
       "      <th>Player</th>\n",
       "      <th>Span</th>\n",
       "      <th>Mat</th>\n",
       "      <th>Inns</th>\n",
       "      <th>NO</th>\n",
       "      <th>Runs</th>\n",
       "      <th>HS</th>\n",
       "      <th>Ave</th>\n",
       "      <th>BF</th>\n",
       "      <th>SR</th>\n",
       "      <th>hundred</th>\n",
       "      <th>fifty</th>\n",
       "      <th>zero</th>\n",
       "      <th>four</th>\n",
       "      <th>six</th>\n",
       "      <th>rating</th>\n",
       "    </tr>\n",
       "  </thead>\n",
       "  <tbody>\n",
       "    <tr>\n",
       "      <th>0</th>\n",
       "      <td>Afif Hossain</td>\n",
       "      <td>2020-2020</td>\n",
       "      <td>1</td>\n",
       "      <td>1</td>\n",
       "      <td>0</td>\n",
       "      <td>7</td>\n",
       "      <td>7</td>\n",
       "      <td>7.00</td>\n",
       "      <td>4</td>\n",
       "      <td>175.00</td>\n",
       "      <td>0</td>\n",
       "      <td>0</td>\n",
       "      <td>0</td>\n",
       "      <td>1</td>\n",
       "      <td>0</td>\n",
       "      <td>12.873711</td>\n",
       "    </tr>\n",
       "    <tr>\n",
       "      <th>1</th>\n",
       "      <td>Al-Amin Hossain</td>\n",
       "      <td>2014-2020</td>\n",
       "      <td>15</td>\n",
       "      <td>7</td>\n",
       "      <td>5</td>\n",
       "      <td>4</td>\n",
       "      <td>2</td>\n",
       "      <td>2.00</td>\n",
       "      <td>20</td>\n",
       "      <td>20.00</td>\n",
       "      <td>0</td>\n",
       "      <td>0</td>\n",
       "      <td>2</td>\n",
       "      <td>0</td>\n",
       "      <td>0</td>\n",
       "      <td>0.771429</td>\n",
       "    </tr>\n",
       "    <tr>\n",
       "      <th>2</th>\n",
       "      <td>Anamul Haque</td>\n",
       "      <td>2012-2019</td>\n",
       "      <td>38</td>\n",
       "      <td>52</td>\n",
       "      <td>0</td>\n",
       "      <td>1052</td>\n",
       "      <td>120</td>\n",
       "      <td>30.05</td>\n",
       "      <td>1488</td>\n",
       "      <td>70.69</td>\n",
       "      <td>3</td>\n",
       "      <td>3</td>\n",
       "      <td>6</td>\n",
       "      <td>103</td>\n",
       "      <td>19</td>\n",
       "      <td>34.110835</td>\n",
       "    </tr>\n",
       "    <tr>\n",
       "      <th>3</th>\n",
       "      <td>Liton Das</td>\n",
       "      <td>2015-2020</td>\n",
       "      <td>36</td>\n",
       "      <td>36</td>\n",
       "      <td>3</td>\n",
       "      <td>1079</td>\n",
       "      <td>176</td>\n",
       "      <td>32.69</td>\n",
       "      <td>1133</td>\n",
       "      <td>95.23</td>\n",
       "      <td>3</td>\n",
       "      <td>3</td>\n",
       "      <td>4</td>\n",
       "      <td>113</td>\n",
       "      <td>22</td>\n",
       "      <td>50.230117</td>\n",
       "    </tr>\n",
       "    <tr>\n",
       "      <th>4</th>\n",
       "      <td>Mahmudullah</td>\n",
       "      <td>2007-2020</td>\n",
       "      <td>188</td>\n",
       "      <td>163</td>\n",
       "      <td>42</td>\n",
       "      <td>4070</td>\n",
       "      <td>128</td>\n",
       "      <td>33.63</td>\n",
       "      <td>5311</td>\n",
       "      <td>76.63</td>\n",
       "      <td>3</td>\n",
       "      <td>21</td>\n",
       "      <td>8</td>\n",
       "      <td>317</td>\n",
       "      <td>57</td>\n",
       "      <td>38.835912</td>\n",
       "    </tr>\n",
       "    <tr>\n",
       "      <th>5</th>\n",
       "      <td>Mashrafe Mortaza</td>\n",
       "      <td>2001-2020</td>\n",
       "      <td>218</td>\n",
       "      <td>156</td>\n",
       "      <td>28</td>\n",
       "      <td>1773</td>\n",
       "      <td>51</td>\n",
       "      <td>13.85</td>\n",
       "      <td>2021</td>\n",
       "      <td>87.72</td>\n",
       "      <td>0</td>\n",
       "      <td>1</td>\n",
       "      <td>15</td>\n",
       "      <td>150</td>\n",
       "      <td>62</td>\n",
       "      <td>18.479853</td>\n",
       "    </tr>\n",
       "    <tr>\n",
       "      <th>6</th>\n",
       "      <td>Mehidy Hasan Miraz</td>\n",
       "      <td>2017-2020</td>\n",
       "      <td>41</td>\n",
       "      <td>26</td>\n",
       "      <td>4</td>\n",
       "      <td>393</td>\n",
       "      <td>51</td>\n",
       "      <td>17.86</td>\n",
       "      <td>508</td>\n",
       "      <td>77.36</td>\n",
       "      <td>0</td>\n",
       "      <td>1</td>\n",
       "      <td>0</td>\n",
       "      <td>39</td>\n",
       "      <td>4</td>\n",
       "      <td>22.918727</td>\n",
       "    </tr>\n",
       "    <tr>\n",
       "      <th>7</th>\n",
       "      <td>Mohammad Mithun</td>\n",
       "      <td>2014-2020</td>\n",
       "      <td>27</td>\n",
       "      <td>23</td>\n",
       "      <td>3</td>\n",
       "      <td>575</td>\n",
       "      <td>63</td>\n",
       "      <td>28.75</td>\n",
       "      <td>718</td>\n",
       "      <td>80.08</td>\n",
       "      <td>0</td>\n",
       "      <td>5</td>\n",
       "      <td>1</td>\n",
       "      <td>49</td>\n",
       "      <td>14</td>\n",
       "      <td>38.267898</td>\n",
       "    </tr>\n",
       "    <tr>\n",
       "      <th>8</th>\n",
       "      <td>Mohammad Saifuddin</td>\n",
       "      <td>2017-2020</td>\n",
       "      <td>22</td>\n",
       "      <td>13</td>\n",
       "      <td>4</td>\n",
       "      <td>290</td>\n",
       "      <td>51</td>\n",
       "      <td>32.22</td>\n",
       "      <td>337</td>\n",
       "      <td>86.05</td>\n",
       "      <td>0</td>\n",
       "      <td>2</td>\n",
       "      <td>1</td>\n",
       "      <td>24</td>\n",
       "      <td>6</td>\n",
       "      <td>33.761633</td>\n",
       "    </tr>\n",
       "    <tr>\n",
       "      <th>9</th>\n",
       "      <td>Mosaddek Hossain</td>\n",
       "      <td>2016-2019</td>\n",
       "      <td>35</td>\n",
       "      <td>30</td>\n",
       "      <td>10</td>\n",
       "      <td>549</td>\n",
       "      <td>52</td>\n",
       "      <td>27.45</td>\n",
       "      <td>633</td>\n",
       "      <td>86.72</td>\n",
       "      <td>0</td>\n",
       "      <td>2</td>\n",
       "      <td>1</td>\n",
       "      <td>53</td>\n",
       "      <td>11</td>\n",
       "      <td>28.707528</td>\n",
       "    </tr>\n",
       "  </tbody>\n",
       "</table>\n",
       "</div>"
      ],
      "text/plain": [
       "               Player       Span  Mat  Inns  NO  Runs   HS    Ave    BF  \\\n",
       "0        Afif Hossain  2020-2020    1     1   0     7    7   7.00     4   \n",
       "1     Al-Amin Hossain  2014-2020   15     7   5     4    2   2.00    20   \n",
       "2        Anamul Haque  2012-2019   38    52   0  1052  120  30.05  1488   \n",
       "3           Liton Das  2015-2020   36    36   3  1079  176  32.69  1133   \n",
       "4         Mahmudullah  2007-2020  188   163  42  4070  128  33.63  5311   \n",
       "5    Mashrafe Mortaza  2001-2020  218   156  28  1773   51  13.85  2021   \n",
       "6  Mehidy Hasan Miraz  2017-2020   41    26   4   393   51  17.86   508   \n",
       "7     Mohammad Mithun  2014-2020   27    23   3   575   63  28.75   718   \n",
       "8  Mohammad Saifuddin  2017-2020   22    13   4   290   51  32.22   337   \n",
       "9    Mosaddek Hossain  2016-2019   35    30  10   549   52  27.45   633   \n",
       "\n",
       "       SR  hundred  fifty  zero  four  six     rating  \n",
       "0  175.00        0      0     0     1    0  12.873711  \n",
       "1   20.00        0      0     2     0    0   0.771429  \n",
       "2   70.69        3      3     6   103   19  34.110835  \n",
       "3   95.23        3      3     4   113   22  50.230117  \n",
       "4   76.63        3     21     8   317   57  38.835912  \n",
       "5   87.72        0      1    15   150   62  18.479853  \n",
       "6   77.36        0      1     0    39    4  22.918727  \n",
       "7   80.08        0      5     1    49   14  38.267898  \n",
       "8   86.05        0      2     1    24    6  33.761633  \n",
       "9   86.72        0      2     1    53   11  28.707528  "
      ]
     },
     "execution_count": 60,
     "metadata": {},
     "output_type": "execute_result"
    }
   ],
   "source": [
    "dm.head(10)"
   ]
  },
  {
   "cell_type": "code",
   "execution_count": 61,
   "metadata": {},
   "outputs": [
    {
     "data": {
      "text/plain": [
       "array(['0', '0', '1', '1', '1', '0', '1', '1', '1', '1'], dtype=object)"
      ]
     },
     "execution_count": 61,
     "metadata": {},
     "output_type": "execute_result"
    }
   ],
   "source": [
    "model.predict(p[:10])"
   ]
  },
  {
   "cell_type": "code",
   "execution_count": 62,
   "metadata": {},
   "outputs": [],
   "source": [
    "pre = dm['rating'].apply(lambda x: '1' if x >= 20 else '0')"
   ]
  },
  {
   "cell_type": "code",
   "execution_count": 63,
   "metadata": {},
   "outputs": [
    {
     "data": {
      "text/plain": [
       "0    0\n",
       "1    0\n",
       "2    1\n",
       "3    1\n",
       "4    1\n",
       "5    0\n",
       "6    1\n",
       "7    1\n",
       "8    1\n",
       "9    1\n",
       "Name: rating, dtype: object"
      ]
     },
     "execution_count": 63,
     "metadata": {},
     "output_type": "execute_result"
    }
   ],
   "source": [
    "pre.head(10)"
   ]
  },
  {
   "cell_type": "code",
   "execution_count": 64,
   "metadata": {},
   "outputs": [],
   "source": [
    "s=dm.sort_values(by='rating', ascending=False)"
   ]
  },
  {
   "cell_type": "code",
   "execution_count": 65,
   "metadata": {},
   "outputs": [
    {
     "data": {
      "text/html": [
       "<div>\n",
       "<style scoped>\n",
       "    .dataframe tbody tr th:only-of-type {\n",
       "        vertical-align: middle;\n",
       "    }\n",
       "\n",
       "    .dataframe tbody tr th {\n",
       "        vertical-align: top;\n",
       "    }\n",
       "\n",
       "    .dataframe thead th {\n",
       "        text-align: right;\n",
       "    }\n",
       "</style>\n",
       "<table border=\"1\" class=\"dataframe\">\n",
       "  <thead>\n",
       "    <tr style=\"text-align: right;\">\n",
       "      <th></th>\n",
       "      <th>Player</th>\n",
       "      <th>Span</th>\n",
       "      <th>Mat</th>\n",
       "      <th>Inns</th>\n",
       "      <th>NO</th>\n",
       "      <th>Runs</th>\n",
       "      <th>HS</th>\n",
       "      <th>Ave</th>\n",
       "      <th>BF</th>\n",
       "      <th>SR</th>\n",
       "      <th>hundred</th>\n",
       "      <th>fifty</th>\n",
       "      <th>zero</th>\n",
       "      <th>four</th>\n",
       "      <th>six</th>\n",
       "      <th>rating</th>\n",
       "    </tr>\n",
       "  </thead>\n",
       "  <tbody>\n",
       "    <tr>\n",
       "      <th>19</th>\n",
       "      <td>Tamim Iqbal</td>\n",
       "      <td>2007-2020</td>\n",
       "      <td>207</td>\n",
       "      <td>205</td>\n",
       "      <td>9</td>\n",
       "      <td>7202</td>\n",
       "      <td>158</td>\n",
       "      <td>36.74</td>\n",
       "      <td>9153</td>\n",
       "      <td>78.68</td>\n",
       "      <td>13</td>\n",
       "      <td>47</td>\n",
       "      <td>18</td>\n",
       "      <td>783</td>\n",
       "      <td>91</td>\n",
       "      <td>67.339285</td>\n",
       "    </tr>\n",
       "    <tr>\n",
       "      <th>16</th>\n",
       "      <td>Shakib Al Hasan</td>\n",
       "      <td>2006-2019</td>\n",
       "      <td>206</td>\n",
       "      <td>194</td>\n",
       "      <td>27</td>\n",
       "      <td>6323</td>\n",
       "      <td>134</td>\n",
       "      <td>37.86</td>\n",
       "      <td>7641</td>\n",
       "      <td>82.75</td>\n",
       "      <td>9</td>\n",
       "      <td>47</td>\n",
       "      <td>10</td>\n",
       "      <td>574</td>\n",
       "      <td>42</td>\n",
       "      <td>55.887491</td>\n",
       "    </tr>\n",
       "    <tr>\n",
       "      <th>17</th>\n",
       "      <td>Soumya Sarkar</td>\n",
       "      <td>2014-2019</td>\n",
       "      <td>55</td>\n",
       "      <td>54</td>\n",
       "      <td>3</td>\n",
       "      <td>1728</td>\n",
       "      <td>127</td>\n",
       "      <td>33.88</td>\n",
       "      <td>1753</td>\n",
       "      <td>98.57</td>\n",
       "      <td>2</td>\n",
       "      <td>11</td>\n",
       "      <td>5</td>\n",
       "      <td>200</td>\n",
       "      <td>42</td>\n",
       "      <td>54.828819</td>\n",
       "    </tr>\n",
       "    <tr>\n",
       "      <th>10</th>\n",
       "      <td>Mushfiqur Rahim</td>\n",
       "      <td>2006-2020</td>\n",
       "      <td>218</td>\n",
       "      <td>204</td>\n",
       "      <td>34</td>\n",
       "      <td>6174</td>\n",
       "      <td>144</td>\n",
       "      <td>36.31</td>\n",
       "      <td>7794</td>\n",
       "      <td>79.21</td>\n",
       "      <td>7</td>\n",
       "      <td>38</td>\n",
       "      <td>10</td>\n",
       "      <td>492</td>\n",
       "      <td>82</td>\n",
       "      <td>50.430157</td>\n",
       "    </tr>\n",
       "    <tr>\n",
       "      <th>3</th>\n",
       "      <td>Liton Das</td>\n",
       "      <td>2015-2020</td>\n",
       "      <td>36</td>\n",
       "      <td>36</td>\n",
       "      <td>3</td>\n",
       "      <td>1079</td>\n",
       "      <td>176</td>\n",
       "      <td>32.69</td>\n",
       "      <td>1133</td>\n",
       "      <td>95.23</td>\n",
       "      <td>3</td>\n",
       "      <td>3</td>\n",
       "      <td>4</td>\n",
       "      <td>113</td>\n",
       "      <td>22</td>\n",
       "      <td>50.230117</td>\n",
       "    </tr>\n",
       "    <tr>\n",
       "      <th>4</th>\n",
       "      <td>Mahmudullah</td>\n",
       "      <td>2007-2020</td>\n",
       "      <td>188</td>\n",
       "      <td>163</td>\n",
       "      <td>42</td>\n",
       "      <td>4070</td>\n",
       "      <td>128</td>\n",
       "      <td>33.63</td>\n",
       "      <td>5311</td>\n",
       "      <td>76.63</td>\n",
       "      <td>3</td>\n",
       "      <td>21</td>\n",
       "      <td>8</td>\n",
       "      <td>317</td>\n",
       "      <td>57</td>\n",
       "      <td>38.835912</td>\n",
       "    </tr>\n",
       "  </tbody>\n",
       "</table>\n",
       "</div>"
      ],
      "text/plain": [
       "             Player       Span  Mat  Inns  NO  Runs   HS    Ave    BF     SR  \\\n",
       "19      Tamim Iqbal  2007-2020  207   205   9  7202  158  36.74  9153  78.68   \n",
       "16  Shakib Al Hasan  2006-2019  206   194  27  6323  134  37.86  7641  82.75   \n",
       "17    Soumya Sarkar  2014-2019   55    54   3  1728  127  33.88  1753  98.57   \n",
       "10  Mushfiqur Rahim  2006-2020  218   204  34  6174  144  36.31  7794  79.21   \n",
       "3         Liton Das  2015-2020   36    36   3  1079  176  32.69  1133  95.23   \n",
       "4       Mahmudullah  2007-2020  188   163  42  4070  128  33.63  5311  76.63   \n",
       "\n",
       "    hundred  fifty  zero  four  six     rating  \n",
       "19       13     47    18   783   91  67.339285  \n",
       "16        9     47    10   574   42  55.887491  \n",
       "17        2     11     5   200   42  54.828819  \n",
       "10        7     38    10   492   82  50.430157  \n",
       "3         3      3     4   113   22  50.230117  \n",
       "4         3     21     8   317   57  38.835912  "
      ]
     },
     "execution_count": 65,
     "metadata": {},
     "output_type": "execute_result"
    }
   ],
   "source": [
    "s.head(6)"
   ]
  },
  {
   "cell_type": "code",
   "execution_count": 66,
   "metadata": {},
   "outputs": [],
   "source": [
    "k=s.Player"
   ]
  },
  {
   "cell_type": "code",
   "execution_count": 67,
   "metadata": {},
   "outputs": [
    {
     "data": {
      "text/plain": [
       "19        Tamim Iqbal\n",
       "16    Shakib Al Hasan\n",
       "17      Soumya Sarkar\n",
       "10    Mushfiqur Rahim\n",
       "3           Liton Das\n",
       "4         Mahmudullah\n",
       "Name: Player, dtype: object"
      ]
     },
     "execution_count": 67,
     "metadata": {},
     "output_type": "execute_result"
    }
   ],
   "source": [
    "k.head(6)"
   ]
  },
  {
   "cell_type": "code",
   "execution_count": null,
   "metadata": {},
   "outputs": [],
   "source": []
  }
 ],
 "metadata": {
  "kernelspec": {
   "display_name": "Python 3",
   "language": "python",
   "name": "python3"
  },
  "language_info": {
   "codemirror_mode": {
    "name": "ipython",
    "version": 3
   },
   "file_extension": ".py",
   "mimetype": "text/x-python",
   "name": "python",
   "nbconvert_exporter": "python",
   "pygments_lexer": "ipython3",
   "version": "3.8.5"
  }
 },
 "nbformat": 4,
 "nbformat_minor": 4
}
